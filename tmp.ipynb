{
 "cells": [
  {
   "cell_type": "code",
   "execution_count": 7,
   "metadata": {
    "collapsed": false
   },
   "outputs": [
    {
     "name": "stdout",
     "output_type": "stream",
     "text": [
      "[[ 1.  0.  0.]\n",
      " [ 0.  1.  0.]\n",
      " [ 0.  0.  1.]]\n"
     ]
    }
   ],
   "source": [
    "import cv2\n",
    "import numpy as np\n",
    "\n",
    "if __name__ == \"__main__\":\n",
    "    im  = cv2.imread(r'./data/1.bmp')\n",
    "    ref = cv2.imread(r'./data/2.bmp')\n",
    "    \n",
    "    number_of_iterations = 50;\n",
    "    termination_eps = 0.01;\n",
    "    warpmode   = cv2.MOTION_TRANSLATION\n",
    "    warpmatrix = np.eye(3, dtype=float)\n",
    "    print(warpmatrix)\n",
    "\n",
    "    cv2.findTransformECC (ref, im, warp_matrix, warp_mode,\n",
    "        cv2.TermCriteria(cv::TermCriteria.COUNT + cv2.TermCriteria.EPS,\n",
    "        number_of_iterations, termination_eps));\n",
    "    \n",
    "    nrow, ncol = ref.shape()\n",
    "    im2 = np.zeros(nrow, ncol, dtype=float)\n",
    "    if (warp_mode != cv::MOTION_HOMOGRAPHY)\n",
    "        cv2.warpAffine(im2, warped_image, warp_matrix, warped_image.size(),\n",
    "        cv2.INTER_LINEAR + cv2.WARP_INVERSE_MAP);\n",
    "    else\n",
    "        cv2.warpPerspective(im2, warped_image, warp_matrix, warped_image.size(),\n",
    "        cv::INTER_LINEAR + cv::WARP_INVERSE_MAP);\n",
    "    cout<<\"warp matrix is :\" << warp_matrix << endl;\n",
    "        return warped_image;\n",
    "    \n",
    "    '''"
   ]
  },
  {
   "cell_type": "code",
   "execution_count": null,
   "metadata": {
    "collapsed": true
   },
   "outputs": [],
   "source": []
  }
 ],
 "metadata": {
  "kernelspec": {
   "display_name": "Python 2",
   "language": "python",
   "name": "python2"
  },
  "language_info": {
   "codemirror_mode": {
    "name": "ipython",
    "version": 2
   },
   "file_extension": ".py",
   "mimetype": "text/x-python",
   "name": "python",
   "nbconvert_exporter": "python",
   "pygments_lexer": "ipython2",
   "version": "2.7.12"
  }
 },
 "nbformat": 4,
 "nbformat_minor": 0
}
